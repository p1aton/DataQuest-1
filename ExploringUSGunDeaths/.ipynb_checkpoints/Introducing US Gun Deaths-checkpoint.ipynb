{
 "cells": [
  {
   "cell_type": "markdown",
   "metadata": {},
   "source": [
    "# US Gun Deaths\n",
    "### United States Gun-Realted Deaths between 2012 & 2014"
   ]
  },
  {
   "cell_type": "markdown",
   "metadata": {},
   "source": [
    "### Column Categories\n",
    "---\n",
    "__year__-- the year in which the fatality occurred\n",
    "\n",
    "__month__ -- the month in which the fatality occurred\n",
    "\n",
    "__intent__ -- the intent of the perpetrator of the crime:\n",
    "\n",
    "> Suicide  \n",
    "> Accidental  \n",
    "> NA  \n",
    "> Homicide  \n",
    "> Undetermined\n",
    "\n",
    "__police__ -- whether a police officer was involved with the shooting  \n",
    "\n",
    "> 0 (false)  \n",
    "> 1 (true)\n",
    "\n",
    "__sex__ -- the gender of the victim\n",
    "\n",
    "> M  \n",
    "> F\n",
    "\n",
    "__age__ -- the age of the victim\n",
    "\n",
    "__race__ -- the race of the victim\n",
    "\n",
    "> Asian/Pacific Islander  \n",
    "> Native American/Native Alaskan  \n",
    "> Black  \n",
    "> Hispanic  \n",
    "> White  \n",
    "    \n",
    "__hispanic__ -- a code indicating the Hispanic origin of the victim\n",
    "\n",
    "__place__ -- where the shooting occurred\n",
    "\n",
    "__education__ -- educational status of the victim. Can be one of the following:\n",
    "\n",
    ">__1__ -- Less than High School  \n",
    ">__2__ -- Graduated from High School or equivalent  \n",
    ">__3__ -- Some College  \n",
    ">__4__ -- At least graduated from College  \n",
    ">__5__ -- Not available"
   ]
  },
  {
   "cell_type": "code",
   "execution_count": 1,
   "metadata": {},
   "outputs": [],
   "source": [
    "import csv\n",
    "\n",
    "f = open('guns.csv', 'r')\n",
    "data = list(csv.reader(f))"
   ]
  },
  {
   "cell_type": "code",
   "execution_count": 2,
   "metadata": {},
   "outputs": [],
   "source": [
    "headers = data[0]\n",
    "data = data[1:]"
   ]
  },
  {
   "cell_type": "code",
   "execution_count": 3,
   "metadata": {},
   "outputs": [],
   "source": [
    "year_counts = {}\n",
    "for row in data:\n",
    "    if row[1] in year_counts:\n",
    "        year_counts[row[1]] += 1\n",
    "    else:\n",
    "        year_counts[row[1]] = 1"
   ]
  },
  {
   "cell_type": "code",
   "execution_count": 4,
   "metadata": {},
   "outputs": [],
   "source": [
    "import datetime\n",
    "dates = []\n",
    "for row in data:\n",
    "    date = datetime.datetime(year=int(row[1]),\n",
    "                             month = int(row[2]),\n",
    "                             day=1\n",
    "                            )\n",
    "    date = date.strftime('%b %Y')\n",
    "    dates.append(date)\n",
    "date_counts = {}\n",
    "for row in dates:\n",
    "    if row in date_counts:\n",
    "        date_counts[row] += 1\n",
    "    else:\n",
    "        date_counts[row] = 1"
   ]
  },
  {
   "cell_type": "code",
   "execution_count": 5,
   "metadata": {},
   "outputs": [],
   "source": [
    "sex_counts = {}\n",
    "for row in data:\n",
    "    if row[5] in sex_counts:\n",
    "        sex_counts[row[5]] += 1\n",
    "    else:\n",
    "        sex_counts[row[5]] = 1\n",
    "        \n",
    "intents = []\n",
    "for row in data:\n",
    "    intents.append(row[3])\n",
    "\n",
    "races = []\n",
    "for row in data:\n",
    "    races.append(row[7])\n",
    "\n",
    "homicide_race_counts = {}\n",
    "\n",
    "for index, race in enumerate(races):\n",
    "    if intents[index] == 'Homicide':\n",
    "        if race in homicide_race_counts:\n",
    "            homicide_race_counts[race] += 1\n",
    "        else:\n",
    "            homicide_race_counts[race] = 1"
   ]
  },
  {
   "cell_type": "markdown",
   "metadata": {},
   "source": [
    "#### Thoughts So Far\n",
    "The year and date results don't show any apparent trend without further testing.\n",
    "\n",
    "The sex and race results do show some trends however. It seems that the most likely cause of a gun-related death between 2012 - 2014 involved a White Male. This can be concluded due to the fact that `males` accounted for 86,349 deaths while `females` accounted for 14,449. And the race `white` accounted for 66,237 deaths, with the next closest being `black` at 23,296 deaths."
   ]
  },
  {
   "cell_type": "code",
   "execution_count": 6,
   "metadata": {},
   "outputs": [],
   "source": [
    "c = open('census.csv', 'r')\n",
    "census = list(csv.reader(c))"
   ]
  },
  {
   "cell_type": "code",
   "execution_count": 7,
   "metadata": {},
   "outputs": [],
   "source": [
    "race_pop = {}\n",
    "race_pop['White'] = int(census[1][10])\n",
    "race_pop['Hispanic'] = int(census[1][11])\n",
    "race_pop['Black'] = int(census[1][12])\n",
    "race_pop['Native American/Native Alaskan'] = int(census[1][13])\n",
    "race_pop['Asian/Pacific Islander'] = int(census[1][14]) + int(census[1][15])"
   ]
  },
  {
   "cell_type": "code",
   "execution_count": 8,
   "metadata": {},
   "outputs": [
    {
     "data": {
      "text/plain": [
       "{'Asian/Pacific Islander': 3.530346230970155,\n",
       " 'Black': 48.471284987180944,\n",
       " 'Hispanic': 12.627161104219914,\n",
       " 'Native American/Native Alaskan': 8.717729026240365,\n",
       " 'White': 4.6356417981453335}"
      ]
     },
     "execution_count": 8,
     "metadata": {},
     "output_type": "execute_result"
    }
   ],
   "source": [
    "homicide_per_hundredk = {}\n",
    "for key, value in homicide_race_counts.items():\n",
    "    homicide_per_hundredk[key] = (homicide_race_counts[key] / race_pop[key]) *100000\n",
    "\n",
    "homicide_per_hundredk"
   ]
  },
  {
   "cell_type": "markdown",
   "metadata": {},
   "source": [
    "#### Final Thoughts\n",
    "Based on more information from the census. I was able to more accurately represent the data by basing the deaths on per 100,000 of the population of that race. I also only looked for `Homicide` related deaths. In doing so, I found that about 5 out of 100,000 people in the `White` race category were killed by guns compared to about 49 out 100,000 people in the `Black` race category. This completely changes my inital thoughts when just looking at the totals.\n",
    "\n",
    "-----------\n",
    "##### Futher Study\n",
    "Further study into this data could include:\n",
    "\n",
    "> Other intent categories  \n",
    "> Relationship between month and homicides/suicides  \n",
    "> Homicide/Suicide rates by gender  \n",
    "> Relationship between deaths and education"
   ]
  },
  {
   "cell_type": "code",
   "execution_count": null,
   "metadata": {
    "collapsed": true
   },
   "outputs": [],
   "source": []
  }
 ],
 "metadata": {
  "kernelspec": {
   "display_name": "Python 3",
   "language": "python",
   "name": "python3"
  },
  "language_info": {
   "codemirror_mode": {
    "name": "ipython",
    "version": 3
   },
   "file_extension": ".py",
   "mimetype": "text/x-python",
   "name": "python",
   "nbconvert_exporter": "python",
   "pygments_lexer": "ipython3",
   "version": "3.6.1"
  }
 },
 "nbformat": 4,
 "nbformat_minor": 2
}
