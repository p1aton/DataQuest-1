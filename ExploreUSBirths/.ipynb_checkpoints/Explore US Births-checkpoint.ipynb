{
 "cells": [
  {
   "cell_type": "markdown",
   "metadata": {
    "collapsed": true
   },
   "source": [
    "# Explore US Births\n",
    "#### Further Solidifying Understanding of reading an process data from CSV files."
   ]
  },
  {
   "cell_type": "markdown",
   "metadata": {},
   "source": [
    "The **Function** `read_csv` is created which takes a CSV files as an input.  \n",
    "`read_csv` will return a **List** of **Lists** containing each row of data."
   ]
  },
  {
   "cell_type": "code",
   "execution_count": 1,
   "metadata": {},
   "outputs": [],
   "source": [
    "def read_csv(file):\n",
    "    f = open(file, 'r')\n",
    "    raw_data = f.read()\n",
    "    string_list = raw_data.split('\\n')\n",
    "    final_list = []\n",
    "    for line in string_list[1:len(string_list)]:\n",
    "        string_field = line.split(',')\n",
    "        int_field = []\n",
    "        for str_line in string_field:\n",
    "            int_field.append(int(str_line))\n",
    "        final_list.append(int_field)\n",
    "    return final_list\n",
    "    \n",
    "cdc_list = read_csv('US_births_1994-2003_CDC_NCHS.csv')\n",
    "            "
   ]
  },
  {
   "cell_type": "markdown",
   "metadata": {},
   "source": [
    "The **Function** `calc_counts` is created which takes a **List** and a column **Integer**.  \n",
    "`calc_counts` will return a **Dictionary** containing key-value pairs.  \n",
    "The keys will depend on the column number that was entered.  \n",
    "And the value will be the total *births* for that key."
   ]
  },
  {
   "cell_type": "code",
   "execution_count": 2,
   "metadata": {},
   "outputs": [],
   "source": [
    "def calc_counts(data, column):\n",
    "    final_data = {}\n",
    "    for line in data:\n",
    "        if line[column] in final_data:\n",
    "            final_data[line[column]] += line[4]\n",
    "        else:\n",
    "            final_data[line[column]] = line[4]\n",
    "    return final_data"
   ]
  },
  {
   "cell_type": "code",
   "execution_count": 3,
   "metadata": {
    "collapsed": true
   },
   "outputs": [],
   "source": [
    "cdc_year_births = calc_counts(cdc_list, 0)\n",
    "cdc_month_births = calc_counts(cdc_list, 1)\n",
    "cdc_dom_births = calc_counts(cdc_list, 2)\n",
    "cdc_dow_births = calc_counts(cdc_list, 3)"
   ]
  },
  {
   "cell_type": "markdown",
   "metadata": {},
   "source": [
    "Three **Functions** are defined: `max_val`, `min_val` and `max_min`. All accept a **Dictionary** as an input.  \n",
    "`max_val` returns the maximum value in the dictionary.  \n",
    "`min_val` returns the minimum value in the dictionary.  \n",
    "`max_min` returns both maximum and minimum values in the dictionary."
   ]
  },
  {
   "cell_type": "code",
   "execution_count": 4,
   "metadata": {},
   "outputs": [],
   "source": [
    "def max_val(dictionary):\n",
    "    max_value = 0\n",
    "    for key in dictionary:\n",
    "        if dictionary[key] > max_value:\n",
    "            max_value = dictionary[key]\n",
    "    return max_value\n",
    "def min_val(dictionary):\n",
    "    min_value = max_val(dictionary)\n",
    "    for key in dictionary:\n",
    "        if dictionary[key] < min_value:\n",
    "            min_value = dictionary[key]\n",
    "    return min_value\n",
    "def max_min(dictionary):\n",
    "    return max_val(dictionary), min_val(dictionary)"
   ]
  },
  {
   "cell_type": "code",
   "execution_count": 5,
   "metadata": {
    "scrolled": false
   },
   "outputs": [],
   "source": [
    "max_cdc_year_births, min_cdc_year_births = max_min(cdc_year_births)\n",
    "max_cdc_month_births, min_cdc_month_births = max_min(cdc_month_births)\n",
    "max_cdc_dom_births, min_cdc_dom_births = max_min(cdc_dom_births)\n",
    "max_cdc_dow_births, min_cdc_dow_births = max_min(cdc_dow_births)"
   ]
  }
 ],
 "metadata": {
  "anaconda-cloud": {},
  "kernelspec": {
   "display_name": "Python 3",
   "language": "python",
   "name": "python3"
  },
  "language_info": {
   "codemirror_mode": {
    "name": "ipython",
    "version": 3
   },
   "file_extension": ".py",
   "mimetype": "text/x-python",
   "name": "python",
   "nbconvert_exporter": "python",
   "pygments_lexer": "ipython3",
   "version": "3.6.1"
  }
 },
 "nbformat": 4,
 "nbformat_minor": 1
}
