{
 "cells": [
  {
   "cell_type": "markdown",
   "metadata": {},
   "source": [
    "Basic Tutorial on Using Jupyter\n",
    "=================\n",
    "\n",
    "The **Object** created after opening the file is assigned to `f`.  \n",
    "The file **Object** is then read and assigned to `text` as a **String**."
   ]
  },
  {
   "cell_type": "code",
   "execution_count": 1,
   "metadata": {
    "scrolled": true
   },
   "outputs": [],
   "source": [
    "f = open('births.csv', 'r')\n",
    "text = f.read()"
   ]
  },
  {
   "cell_type": "markdown",
   "metadata": {},
   "source": [
    "`text` is split on each new line. This will return a **List**, contain each split line."
   ]
  },
  {
   "cell_type": "code",
   "execution_count": 2,
   "metadata": {},
   "outputs": [],
   "source": [
    "data = text.split('\\n')"
   ]
  },
  {
   "cell_type": "markdown",
   "metadata": {},
   "source": [
    "An empty **List** is created and assigned to `birth_years`. This will catch the formatted **Lists** created in the next line of code."
   ]
  },
  {
   "cell_type": "code",
   "execution_count": 3,
   "metadata": {
    "collapsed": true
   },
   "outputs": [],
   "source": [
    "birth_years = []"
   ]
  },
  {
   "cell_type": "markdown",
   "metadata": {},
   "source": [
    "The **List** stored in `data` is interated through line by line.  \n",
    "Each line is split on the comma, which will return a **List** that is assigned to `split_line`.  \n",
    "The **List** in `split_line` is then appended to `birth_years`."
   ]
  },
  {
   "cell_type": "code",
   "execution_count": 4,
   "metadata": {},
   "outputs": [],
   "source": [
    "for line in data:\n",
    "    split_line = line.split(',')\n",
    "    birth_years.append(split_line)"
   ]
  },
  {
   "cell_type": "markdown",
   "metadata": {
    "collapsed": true
   },
   "source": [
    "An empty **Dictionary** is created and assigned to `births_on_each_day`."
   ]
  },
  {
   "cell_type": "code",
   "execution_count": 5,
   "metadata": {
    "collapsed": true
   },
   "outputs": [],
   "source": [
    "births_on_each_day = {}"
   ]
  },
  {
   "cell_type": "markdown",
   "metadata": {},
   "source": [
    "Each **Index** in `birth_years` is interated through.\n",
    "\n",
    "An _if-statement_ checks whether or not the current day of the week is in `births_on_each_day`.  \n",
    "If it is, it will add the current birth number to that day of the week.  \n",
    "If it is not, it will create the day of the week as a key in `births_on_each_day` and assign the current birth number to that key."
   ]
  },
  {
   "cell_type": "code",
   "execution_count": 7,
   "metadata": {},
   "outputs": [],
   "source": [
    "for line in birth_years[1:len(birth_years)]:\n",
    "    if line[3] in births_on_each_day:\n",
    "        births_on_each_day[line[3]] += int(line[4])\n",
    "    else:\n",
    "        births_on_each_day[line[3]] = int(line[4])"
   ]
  }
 ],
 "metadata": {
  "anaconda-cloud": {},
  "kernelspec": {
   "display_name": "Python 3",
   "language": "python",
   "name": "python3"
  },
  "language_info": {
   "codemirror_mode": {
    "name": "ipython",
    "version": 3
   },
   "file_extension": ".py",
   "mimetype": "text/x-python",
   "name": "python",
   "nbconvert_exporter": "python",
   "pygments_lexer": "ipython3",
   "version": "3.6.1"
  }
 },
 "nbformat": 4,
 "nbformat_minor": 1
}
