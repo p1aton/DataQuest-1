{
 "cells": [
  {
   "cell_type": "code",
   "execution_count": null,
   "metadata": {
    "collapsed": true
   },
   "outputs": [],
   "source": [
    "import sqlite3"
   ]
  },
  {
   "cell_type": "code",
   "execution_count": null,
   "metadata": {
    "collapsed": true
   },
   "outputs": [],
   "source": [
    "conn = sqlite3.connect('nominations.db')"
   ]
  },
  {
   "cell_type": "markdown",
   "metadata": {},
   "source": [
    "### Check Contents of Nomations Table"
   ]
  },
  {
   "cell_type": "code",
   "execution_count": null,
   "metadata": {},
   "outputs": [],
   "source": [
    "query = '''\n",
    "PRAGMA table_info(nominations);\n",
    "'''\n",
    "schema = conn.execute(query).fetchall()\n",
    "for row in schema:\n",
    "    print(row)\n",
    "query='''\n",
    "SELECT *\n",
    "FROM nominations\n",
    "LIMIT 10;\n",
    "'''\n",
    "first_ten = conn.execute(query).fetchall()\n",
    "for row in first_ten:\n",
    "    print(row)"
   ]
  },
  {
   "cell_type": "markdown",
   "metadata": {},
   "source": [
    "### Create and Fill Ceremonies Table"
   ]
  },
  {
   "cell_type": "code",
   "execution_count": null,
   "metadata": {
    "collapsed": true
   },
   "outputs": [],
   "source": [
    "years_hosts = [\n",
    "    (2010, \"Steve Martin\"),\n",
    "    (2009, \"Hugh Jackman\"),\n",
    "    (2008, \"Jon Stewart\"),\n",
    "    (2007, \"Ellen DeGeneres\"),\n",
    "    (2006, \"Jon Stewart\"),\n",
    "    (2005, \"Chris Rock\"),\n",
    "    (2004, \"Billy Crystal\"),\n",
    "    (2003, \"Steve Martin\"),\n",
    "    (2002, \"Whoopi Goldberg\"),\n",
    "    (2001, \"Steve Martin\"),\n",
    "    (2000, \"Billy Crystal\")\n",
    "]"
   ]
  },
  {
   "cell_type": "code",
   "execution_count": null,
   "metadata": {},
   "outputs": [],
   "source": [
    "query = '''\n",
    "CREATE TABLE ceremonies (\n",
    "id integer PRIMARY KEY,\n",
    "Year integer,\n",
    "Host text\n",
    ")\n",
    "'''\n",
    "conn.execute(query)\n",
    "\n",
    "insert_query = '''\n",
    "INSERT INTO ceremonies (Year, Host) VALUES (?,?);\n",
    "'''\n",
    "conn.executemany(insert_query, years_hosts)"
   ]
  },
  {
   "cell_type": "markdown",
   "metadata": {},
   "source": [
    "### Verify Ceremonies Table Created and Properly Populated"
   ]
  },
  {
   "cell_type": "code",
   "execution_count": null,
   "metadata": {},
   "outputs": [],
   "source": [
    "query = '''\n",
    "PRAGMA table_info(ceremonies)\n",
    "'''\n",
    "table_info = conn.execute(query).fetchall()\n",
    "for row in table_info:\n",
    "    print(row)\n",
    "query = '''\n",
    "SELECT *\n",
    "FROM ceremonies\n",
    "LIMIT 10;\n",
    "'''\n",
    "first_ten = conn.execute(query).fetchall()\n",
    "for row in first_ten:\n",
    "    print(row)"
   ]
  },
  {
   "cell_type": "code",
   "execution_count": null,
   "metadata": {},
   "outputs": [],
   "source": [
    "query = '''\n",
    "PRAGMA foreign_keys = ON;\n",
    "'''\n",
    "conn.execute(query)"
   ]
  },
  {
   "cell_type": "markdown",
   "metadata": {},
   "source": [
    "### Recreate Nominations Table to Include Ceremony Id"
   ]
  },
  {
   "cell_type": "code",
   "execution_count": null,
   "metadata": {
    "collapsed": true
   },
   "outputs": [],
   "source": [
    "query = '''\n",
    "SELECT nominations.category, nominations.nominee,\n",
    "nominations.movie, nominations.character, nominations.won,\n",
    "ceremonies.id\n",
    "FROM nominations\n",
    "INNER JOIN ceremonies ON\n",
    "nominations.year == ceremonies.year\n",
    "'''\n",
    "\n",
    "joined_nominations = conn.execute(query).fetchall()"
   ]
  },
  {
   "cell_type": "code",
   "execution_count": null,
   "metadata": {},
   "outputs": [],
   "source": [
    "create_table = '''\n",
    "CREATE TABLE nominations_two (\n",
    "id integer PRIMARY KEY,\n",
    "category text,\n",
    "nominee text,\n",
    "movie text,\n",
    "character text,\n",
    "won integer,\n",
    "ceremony_id integer,\n",
    "FOREIGN KEY(ceremony_id) REFERENCES ceremonies(id)\n",
    ")\n",
    "'''\n",
    "conn.execute(create_table)\n",
    "\n",
    "insert_query = '''\n",
    "INSERT INTO nominations_two (category, nominee, movie, character, won, ceremony_id)\n",
    "VALUES (?,?,?,?,?,?)\n",
    "'''\n",
    "conn.executemany(insert_query, joined_nominations)"
   ]
  },
  {
   "cell_type": "code",
   "execution_count": null,
   "metadata": {},
   "outputs": [],
   "source": [
    "query = '''\n",
    "SELECT *\n",
    "FROM nominations_two\n",
    "LIMIT 5;\n",
    "'''\n",
    "nominations_two = conn.execute(query).fetchall()\n",
    "nominations_two"
   ]
  },
  {
   "cell_type": "code",
   "execution_count": null,
   "metadata": {},
   "outputs": [],
   "source": [
    "drop_query = '''\n",
    "DROP TABLE nominations\n",
    "'''\n",
    "name_change = '''\n",
    "ALTER TABLE nominations_two\n",
    "RENAME TO nominations\n",
    "'''\n",
    "\n",
    "conn.execute(drop_query)\n",
    "conn.execute(name_change)"
   ]
  },
  {
   "cell_type": "code",
   "execution_count": null,
   "metadata": {},
   "outputs": [],
   "source": [
    "query = '''\n",
    "SELECT *\n",
    "FROM nominations\n",
    "LIMIT 10;\n",
    "'''\n",
    "\n",
    "print(conn.execute(query).fetchall())"
   ]
  },
  {
   "cell_type": "markdown",
   "metadata": {},
   "source": [
    "### Create Movies, Actors and Movies_Actors Tables"
   ]
  },
  {
   "cell_type": "code",
   "execution_count": null,
   "metadata": {
    "collapsed": true
   },
   "outputs": [],
   "source": [
    "movie_table = '''\n",
    "CREATE TABLE movies (\n",
    "id integer PRIMARY KEY,\n",
    "movie text\n",
    ")\n",
    "'''\n",
    "\n",
    "actors_table = '''\n",
    "CREATE TABLE actors (\n",
    "id integer PRIMARY KEY,\n",
    "actor text\n",
    ")\n",
    "'''\n",
    "\n",
    "movie_actor_table = '''\n",
    "CREATE TABLE movies_actors (\n",
    "id integer PRIMARY KEY,\n",
    "movie_id integer,\n",
    "actor_id integer,\n",
    "FOREIGN KEY(movie_id) REFERENCES movies(id),\n",
    "FOREIGN KEY(actor_id) REFERENCES actors(id)\n",
    ")\n",
    "'''"
   ]
  },
  {
   "cell_type": "code",
   "execution_count": null,
   "metadata": {},
   "outputs": [],
   "source": [
    "conn.execute(movie_table)\n",
    "conn.execute(actors_table)\n",
    "conn.execute(movie_actor_table)"
   ]
  },
  {
   "cell_type": "markdown",
   "metadata": {},
   "source": [
    "### Populate Movies Table"
   ]
  },
  {
   "cell_type": "code",
   "execution_count": null,
   "metadata": {},
   "outputs": [],
   "source": [
    "pop_movies = '''\n",
    "INSERT INTO movies (movie)\n",
    "SELECT DISTINCT movie\n",
    "FROM nominations\n",
    "'''\n",
    "query = '''\n",
    "SELECT *\n",
    "FROM movies\n",
    "LIMIT 10;\n",
    "'''\n",
    "conn.execute(pop_movies)\n",
    "print(conn.execute(query).fetchall())"
   ]
  },
  {
   "cell_type": "markdown",
   "metadata": {},
   "source": [
    "### Populate Actors Table"
   ]
  },
  {
   "cell_type": "code",
   "execution_count": null,
   "metadata": {
    "collapsed": true
   },
   "outputs": [],
   "source": [
    "pop_actors = '''\n",
    "INSERT INTO actors (actor)\n",
    "SELECT DISTINCT nominee\n",
    "FROM nominations;\n",
    "'''\n",
    "query = '''\n",
    "SELECT *\n",
    "FROM actors\n",
    "LIMIT 10;\n",
    "'''\n",
    "\n",
    "conn.execute(pop_actors)\n",
    "print(conn.execute(query).fetchall())"
   ]
  },
  {
   "cell_type": "markdown",
   "metadata": {},
   "source": [
    "### Populate Movies_Actors Table with INNER JOIN Query"
   ]
  },
  {
   "cell_type": "code",
   "execution_count": null,
   "metadata": {},
   "outputs": [],
   "source": [
    "pop_actors_movies = '''\n",
    "INSERT INTO movies_actors (movie_id, actor_id)\n",
    "SELECT movies.id, actors.id FROM nominations\n",
    "INNER JOIN movies ON nominations.movie == movies.movie\n",
    "INNER JOIN actors ON nominations.nominee == actors.actor;\n",
    "'''\n",
    "query = '''\n",
    "SELECT *\n",
    "FROM movies_actors\n",
    "LIMIT 10;\n",
    "'''\n",
    "conn.execute(pop_actors_movies)\n",
    "print(conn.execute(query).fetchall())"
   ]
  },
  {
   "cell_type": "code",
   "execution_count": null,
   "metadata": {
    "collapsed": true
   },
   "outputs": [],
   "source": [
    "conn.close()"
   ]
  }
 ],
 "metadata": {
  "kernelspec": {
   "display_name": "Python 3",
   "language": "python",
   "name": "python3"
  },
  "language_info": {
   "codemirror_mode": {
    "name": "ipython",
    "version": 3
   },
   "file_extension": ".py",
   "mimetype": "text/x-python",
   "name": "python",
   "nbconvert_exporter": "python",
   "pygments_lexer": "ipython3",
   "version": "3.6.1"
  }
 },
 "nbformat": 4,
 "nbformat_minor": 2
}
